{
 "cells": [
  {
   "cell_type": "markdown",
   "metadata": {},
   "source": [
    "# Amazon Web Scraping Computer Monitors"
   ]
  },
  {
   "cell_type": "code",
   "execution_count": 2,
   "metadata": {},
   "outputs": [],
   "source": [
    "import requests\n",
    "from bs4 import BeautifulSoup\n",
    "import pandas as pd\n",
    "from tqdm import tqdm\n",
    "from selenium import webdriver\n",
    "from selenium.webdriver.common.by import By"
   ]
  },
  {
   "cell_type": "code",
   "execution_count": 3,
   "metadata": {},
   "outputs": [],
   "source": [
    "base_URL = \"https://www.amazon.in/s?i=computers&rh=n%3A1375425031%2Cp_n_feature_twenty-one_browse-bin%3A65987097031%7C65987099031%7C65987100031%7C65987101031%7C65987102031%7C65987104031%7C65987105031&dc&fs=true&qid=1713963213&rnid=65987095031&ref=sr_pg_1\"\n",
    "my_header = {\"User-Agent\": \"Mozilla/5.0 (Windows NT 10.0; Win64; x64) AppleWebKit/537.36 (KHTML, like Gecko) Chrome/124.0.0.0 Safari/537.36 Edg/124.0.0.0\"}"
   ]
  },
  {
   "cell_type": "code",
   "execution_count": 4,
   "metadata": {},
   "outputs": [],
   "source": [
    "response = requests.get(base_URL, headers = my_header)\n",
    "soup = BeautifulSoup(response.text, 'html.parser')"
   ]
  },
  {
   "cell_type": "code",
   "execution_count": 5,
   "metadata": {},
   "outputs": [],
   "source": [
    "product_name_list = []\n",
    "product_price_list = []\n",
    "product_mrp_price_list = []\n",
    "review_count_list = []\n",
    "ratings_list = []\n",
    "link_list = []"
   ]
  },
  {
   "cell_type": "code",
   "execution_count": 6,
   "metadata": {},
   "outputs": [],
   "source": [
    "product_name = soup.find_all(class_ = \"a-size-base-plus\")\n",
    "for name in product_name:\n",
    "    product_name_list.append(name.get_text())"
   ]
  },
  {
   "cell_type": "code",
   "execution_count": 7,
   "metadata": {},
   "outputs": [],
   "source": [
    "product_price = soup.select(\"div.a-section.a-spacing-base\")\n",
    "for item_price in product_price:\n",
    "    span = item_price.select_one(\"span.a-price-whole\")\n",
    "    if span is None:\n",
    "        product_price_list.append('Does not exist')\n",
    "    else:\n",
    "        product_price_list.append(span.get_text())"
   ]
  },
  {
   "cell_type": "code",
   "execution_count": 8,
   "metadata": {},
   "outputs": [],
   "source": [
    "mrp_price = soup.select(\"div.a-section.a-spacing-base\")\n",
    "for price in mrp_price: \n",
    "    span = price.select_one(\"div.a-section.aok-inline-block\")\n",
    "    if span is None:\n",
    "        product_mrp_price_list.append('Does not exist')\n",
    "    else:\n",
    "        product_mrp_price_list.append(span.get_text())"
   ]
  },
  {
   "cell_type": "code",
   "execution_count": 19,
   "metadata": {},
   "outputs": [],
   "source": [
    "ratings = soup.select(\"div.a-section.a-spacing-base\")\n",
    "for rating in ratings:\n",
    "    span = rating.select_one(\"span.a-icon-alt\")\n",
    "    if span is None:\n",
    "        ratings_list.append('Does not exist')\n",
    "    elif span.get_text() != '4 Stars & Up' and span.get_text() != '3 Stars & Up' and span.get_text() != '2 Stars & Up' and span.get_text() != '1 Star & Up':\n",
    "        ratings_list.append(span.get_text())"
   ]
  },
  {
   "cell_type": "code",
   "execution_count": 20,
   "metadata": {},
   "outputs": [],
   "source": [
    "review_count = soup.select(\"div.a-section.a-spacing-base\")\n",
    "for count in review_count:\n",
    "    span = count.select_one(\"span.a-size-base.s-underline-text\")\n",
    "    if span is None:\n",
    "        review_count_list.append('Does not exist')\n",
    "    else:\n",
    "        review_count_list.append(span.get_text())"
   ]
  },
  {
   "cell_type": "code",
   "execution_count": 9,
   "metadata": {},
   "outputs": [],
   "source": [
    "links = soup.select(\"div.a-section.a-spacing-base\")\n",
    "for link in links:\n",
    "    anchor_elements = link.select_one('a.a-link-normal.s-underline-text.s-underline-link-text.s-link-style.a-text-normal')\n",
    "    href=anchor_elements.get(\"href\") # type: ignore\n",
    "    link_list.append(href)\n"
   ]
  },
  {
   "cell_type": "code",
   "execution_count": 22,
   "metadata": {},
   "outputs": [],
   "source": [
    "page_num_extract = soup.select(\"span.s-pagination-item.s-pagination-disabled\")\n",
    "page_numbers = [num.get_text() for num in page_num_extract[1:]]"
   ]
  },
  {
   "cell_type": "code",
   "execution_count": 23,
   "metadata": {},
   "outputs": [
    {
     "name": "stderr",
     "output_type": "stream",
     "text": [
      "  0%|          | 0/29 [00:00<?, ?it/s]"
     ]
    },
    {
     "name": "stderr",
     "output_type": "stream",
     "text": [
      "100%|██████████| 29/29 [00:45<00:00,  1.55s/it]\n"
     ]
    }
   ],
   "source": [
    "final_num = page_numbers[0]\n",
    "for page in tqdm(range(2, int(final_num) + 1)):\n",
    "    URL = f\"https://www.amazon.in/s?i=computers&rh=n%3A1375425031%2Cp_n_feature_twenty-one_browse-bin%3A65987097031%7C65987099031%7C65987100031%7C65987101031%7C65987102031%7C65987104031%7C65987105031&dc&fs=true&page={page}&qid=1713963328&rnid=65987095031&ref=sr_pg_{page}\"\n",
    "\n",
    "    response = requests.get(URL, headers = my_header)\n",
    "    soup = BeautifulSoup(response.text, 'html.parser')\n",
    "    \n",
    "    product_name = soup.find_all(class_=\"a-size-base-plus\")\n",
    "    for name in product_name:\n",
    "        product_name_list.append(name.get_text())\n",
    "\n",
    "    product_price = soup.select(\"div.a-section.a-spacing-base\")\n",
    "    for item_price in product_price:\n",
    "        span = item_price.select_one(\"span.a-price-whole\")\n",
    "        if span is None:\n",
    "            product_price_list.append('Does not exist')\n",
    "        else:\n",
    "            product_price_list.append(span.get_text())\n",
    "\n",
    "    mrp_price = soup.select(\"div.a-section.a-spacing-base\")\n",
    "    for price in mrp_price: \n",
    "        span = price.select_one(\"div.a-section.aok-inline-block\")\n",
    "        if span is None:\n",
    "            product_mrp_price_list.append('Does not exist')\n",
    "        else:\n",
    "            product_mrp_price_list.append(span.get_text())\n",
    "\n",
    "    review_count = soup.select(\"div.a-section.a-spacing-base\")\n",
    "    for count in review_count:\n",
    "        span = count.select_one(\"span.a-size-base.s-underline-text\")\n",
    "        if span is None:\n",
    "            review_count_list.append('Does not exist')\n",
    "        else:\n",
    "            review_count_list.append(span.get_text())\n",
    "\n",
    "    ratings = soup.select(\"div.a-section.a-spacing-base\")\n",
    "    for rating in ratings:\n",
    "        span = rating.select_one(\"span.a-icon-alt\")\n",
    "        if span is None:\n",
    "            ratings_list.append('Does not exist')\n",
    "        elif span.get_text() != '4 Stars & Up' and span.get_text() != '3 Stars & Up' and span.get_text() != '2 Stars & Up' and span.get_text() != '1 Star & Up':\n",
    "            ratings_list.append(span.get_text())\n",
    "\n",
    "    links = soup.select(\"div.a-section.a-spacing-base\")\n",
    "    for link in links:\n",
    "        anchor_elements = link.select_one('a.a-link-normal.s-underline-text.s-underline-link-text.s-link-style.a-text-normal')\n",
    "        href=anchor_elements.get(\"href\") # type: ignore\n",
    "        link_list.append(href)"
   ]
  },
  {
   "cell_type": "code",
   "execution_count": 24,
   "metadata": {},
   "outputs": [],
   "source": [
    "resolution_list = []\n",
    "screen_size_list = []\n",
    "brand_list = []\n",
    "refresh_rate_list = []\n",
    "monitor_category_list = []\n",
    "item_model_list = []"
   ]
  },
  {
   "cell_type": "code",
   "execution_count": 25,
   "metadata": {},
   "outputs": [
    {
     "name": "stderr",
     "output_type": "stream",
     "text": [
      "100%|██████████| 907/907 [1:09:20<00:00,  4.59s/it]\n"
     ]
    }
   ],
   "source": [
    "from selenium.webdriver.support.ui import WebDriverWait\n",
    "from selenium.webdriver.support import expected_conditions as EC\n",
    "from selenium import webdriver\n",
    "from selenium.webdriver.common.by import By\n",
    "driver = webdriver.Edge()\n",
    "wait = WebDriverWait(driver, 10)\n",
    "for i in tqdm(link_list):\n",
    "    driver.get(f'https://www.amazon.in/{i}')\n",
    "    \n",
    "    # Get resolution\n",
    "    try:\n",
    "        resolution_element = wait.until(EC.presence_of_element_located((By.XPATH, '//*[@id=\"productOverview_feature_div\"]/div/table')))\n",
    "        resolution = next((line for line in resolution_element.text.split('\\n') if 'Display Resolution Maximum' in line), None)\n",
    "        resolution_list.append(resolution if resolution else 'None')\n",
    "    except:\n",
    "        resolution_list.append('None')\n",
    "\n",
    "    # Get screen size\n",
    "    try:\n",
    "        screen_size_element = wait.until(EC.presence_of_element_located((By.XPATH, '//*[@id=\"productOverview_feature_div\"]/div/table')))\n",
    "        screen_size = next((line for line in screen_size_element.text.split('\\n') if 'Screen Size' in line), None)\n",
    "        screen_size_list.append(screen_size if screen_size else 'None')\n",
    "    except:\n",
    "        screen_size_list.append('None')  \n",
    "\n",
    "    # Get brand\n",
    "    try:\n",
    "        brand_element = wait.until(EC.presence_of_element_located((By.XPATH, '//*[@id=\"productOverview_feature_div\"]/div/table')))\n",
    "        brand = next((line for line in brand_element.text.split('\\n') if 'Brand' in line), None)\n",
    "        brand_list.append(brand if brand else 'None')\n",
    "    except:\n",
    "        brand_list.append('None') \n",
    "\n",
    "    # Get refresh rate\n",
    "    try:\n",
    "        refresh_rate_element = wait.until(EC.presence_of_element_located((By.XPATH, '//*[@id=\"productOverview_feature_div\"]/div/table')))\n",
    "        refresh_rate = next((line for line in refresh_rate_element.text.split('\\n') if 'Refresh Rate' in line), None)\n",
    "        refresh_rate_list.append(refresh_rate if refresh_rate else 'None')\n",
    "    except:\n",
    "        refresh_rate_list.append('None') \n",
    "\n",
    "    # Get monitor category\n",
    "    try:\n",
    "        monitor_category_element = wait.until(EC.presence_of_element_located((By.XPATH, '//*[@id=\"prodDetails\"]/div/div[2]')))\n",
    "        generic_name = next((line for line in monitor_category_element.text.split('\\n') if 'Generic Name' in line), None)\n",
    "        monitor_category_list.append(generic_name if generic_name else 'None')\n",
    "    except:\n",
    "        monitor_category_list.append('None')\n",
    "\n",
    "    # Get item model\n",
    "    try:\n",
    "        item_model_element = wait.until(EC.presence_of_element_located((By.XPATH, '//*[@id=\"productDetails_techSpec_section_1\"]')))\n",
    "        item_model_number = next((line for line in item_model_element.text.split('\\n') if 'Item model number' in line), None)\n",
    "        item_model_list.append(item_model_number if item_model_number else 'None')\n",
    "    except:\n",
    "        item_model_list.append('None')\n",
    "\n",
    "driver.quit()"
   ]
  },
  {
   "cell_type": "code",
   "execution_count": null,
   "metadata": {},
   "outputs": [],
   "source": [
    "df = pd.DataFrame({'Product_Name': product_name_list, 'Product_Price': product_price_list, 'Product_MRP_Price': product_mrp_price_list,\n",
    "                  'Ratings': ratings_list, 'Review_Count': review_count_list, 'Screen Resolution': resolution_list, 'Screen_Size': screen_size_list, 'Brand_Name': brand_list, 'Refresh_Rate': refresh_rate_list,  'Monitor_Category': monitor_category_list, 'Model_Number': item_model_list})\n",
    "df.to_csv('E:\\GitHub\\Python STUFF\\Data Analyst\\Portfolio-Projects\\Python\\AmazonWebScrapData_ComputerMonitors.csv',\n",
    "          sep=',', index=False, encoding='utf-8')"
   ]
  }
 ],
 "metadata": {
  "kernelspec": {
   "display_name": "base",
   "language": "python",
   "name": "python3"
  },
  "language_info": {
   "codemirror_mode": {
    "name": "ipython",
    "version": 3
   },
   "file_extension": ".py",
   "mimetype": "text/x-python",
   "name": "python",
   "nbconvert_exporter": "python",
   "pygments_lexer": "ipython3",
   "version": "3.11.7"
  }
 },
 "nbformat": 4,
 "nbformat_minor": 2
}
